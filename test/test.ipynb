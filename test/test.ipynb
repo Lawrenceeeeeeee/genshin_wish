{
 "cells": [
  {
   "cell_type": "markdown",
   "metadata": {},
   "source": [
    "# 原神祈愿模拟 GenshinWish\n",
    "本Python库是用来模拟原神抽卡的，作者为Lawrence Guo，具体可以模拟角色活动祈愿、武器祈愿和常驻祈愿（暂不支持新手祈愿）\n",
    "# `Wish()`类\n",
    "用于设定卡池初始状态并预备好抽卡。可以直接什么都不填，用`Wish()`来进行实例化，也可以自定义卡池的信息和抽卡状态数据。\n",
    "\n",
    "目前只能让一个对象进行实例化，在一个对象内不可以混合使用三种方法，因为水位是继承的。如果想在同意程序中抽别的池子需要对另外一个对象实例化。后续的更新中可能会将这个问题修复。\n",
    "\n",
    "（可选）输入参数如下：\n",
    "## 卡池信息\n",
    "### 限定角色祈愿\n",
    "- `up_candidate`为限定角色祈愿中UP的五星角色，类型为`str`，默认值为`\"纳西妲\"`\n",
    "- `four_star_up`为限定角色祈愿中UP的四星角色，类型为长度为3的`list`，默认值为`[\"久岐忍\", \"多莉\", \"莱依拉\"]`\n",
    "### 限定武器祈愿\n",
    "- `five_star_weapon_up`为限定武器祈愿中UP的五星武器，类型为长度为2的`list`，默认值为`[\"千夜浮梦\", \"圣显之钥\"]`\n",
    "- `four_star_weapon_up`为限定武器祈愿中UP的四星武器星武器，类型为长度为5的`list`，默认值为`[\"绝弦\", \"祭礼残章\", \"匣里灭辰\", \"西风大剑\", \"西福斯的月光\"]`\n",
    "\n",
    "## 抽卡状态\n",
    "### 通用状态信息\n",
    "- `draw_count`为抽卡水位统计，类型为`int`，默认值为`0`。\n",
    "- `four_star_count`为四星物品水位统计，类型为`int`，默认值为`0`。\n",
    "- `five_star_grt`为五星保底状态，类型为`bool`，默认值为`False`。当`five_star_grt=False`时，可能会歪，也可能不歪；当`five_star_grt=True`时，必定出本期UP五星物品。\n",
    "- `four_star_grt`为四星保底状态，类型为`bool`，默认值为`False`。当`four_star_grt=False`时，可能会歪，也可能不歪；当`four_star_grt=True`时，必定出本期UP四星物品。\n",
    "- `is_limited`判断是否为本期限定角色，类型为`bool`，默认值为`False`。\n",
    "- `star`为物品星级，类型为范围在[3,5]的`int`，默认值为`3`\n",
    "- `is_character`判断上一抽结果是否为角色，类型为`bool`，默认值为`False`\n",
    "- `history`存储抽卡记录，类型为`list`\n",
    "### 武器池专用状态信息\n",
    "- `chart_course`为定轨状态，类型应为`str`，默认值为`None`。\n",
    "- `fate_points`为命定值，类型为范围在[0,2]的`int`，默认值为`0`.\n",
    "- `is_chart_course`最近一次出五星时，判断结果是否为定轨武器，类型为`bool`，默认值为`False`。\n",
    "\n",
    "## 使用示例"
   ]
  },
  {
   "cell_type": "code",
   "execution_count": null,
   "metadata": {
    "ExecuteTime": {
     "end_time": "2023-04-22T00:47:48.488232Z",
     "start_time": "2023-04-22T00:47:48.485343Z"
    }
   },
   "outputs": [],
   "source": [
    "from genshinwish import Wish\n",
    "\n",
    "wish = Wish(up_candidate=\"纳西妲\", four_star_up=[\"久岐忍\", \"多莉\", \"莱依拉\"])"
   ]
  },
  {
   "cell_type": "markdown",
   "metadata": {},
   "source": [
    "# 方法\n",
    "## 1. 限定角色卡池 抽取结果生成 `char_event_wish()`\n",
    "返回类型为`dict`\n",
    "\n",
    "输出格式参考：\n",
    "```\n",
    "{'time': '2023-04-22 01:02:47',\n",
    " 'five_star_grt': False,\n",
    " 'four_star_grt': False,\n",
    " 'draw_count': 1,\n",
    " 'four_star_count': 1,\n",
    " 'star': 3,\n",
    " 'is_limited': False,\n",
    " 'is_character': False,\n",
    " 'result': '鸦羽弓'}\n",
    "```"
   ]
  },
  {
   "cell_type": "code",
   "execution_count": null,
   "metadata": {
    "ExecuteTime": {
     "end_time": "2023-04-22T01:04:52.028427Z",
     "start_time": "2023-04-22T01:04:52.022973Z"
    }
   },
   "outputs": [],
   "source": [
    "wish = Wish(up_candidate=\"纳西妲\", four_star_up=[\"久岐忍\", \"多莉\", \"莱依拉\"])\n",
    "\n",
    "wish.char_event_wish()"
   ]
  },
  {
   "cell_type": "markdown",
   "metadata": {},
   "source": [
    "## 2. 限定武器卡池 抽取结果生成 `weapon_event_wish()`\n",
    "返回类型为`dict`\n",
    "\n",
    "输出格式参考：\n",
    "```\n",
    "{'time': '2023-04-22 01:05:47',\n",
    " 'five_star_grt': False,\n",
    " 'four_star_grt': True,\n",
    " 'draw_count': 13,\n",
    " 'four_star_count': 10,\n",
    " 'star': 4,\n",
    " 'is_character': False,\n",
    " 'is_limited': True,\n",
    " 'is_chart_course': False,\n",
    " 'fate_points': 0,\n",
    " 'result': '绝弦'}\n",
    "```"
   ]
  },
  {
   "cell_type": "code",
   "execution_count": null,
   "metadata": {
    "ExecuteTime": {
     "end_time": "2023-04-22T01:05:47.262394Z",
     "start_time": "2023-04-22T01:05:47.257526Z"
    }
   },
   "outputs": [],
   "source": [
    "wish = Wish(five_star_weapon_up=[\"千夜浮梦\", \"圣显之钥\"],\n",
    "            four_star_weapon_up=[\"绝弦\", \"祭礼残章\", \"匣里灭辰\", \"西风大剑\", \"西福斯的月光\"])\n",
    "\n",
    "wish.weapon_event_wish()"
   ]
  },
  {
   "cell_type": "markdown",
   "metadata": {},
   "source": [
    "## 3. 常驻卡池 抽取结果生成 `std_wish()`\n",
    "返回类型为`dict`\n",
    "\n",
    "输出格式参考：\n",
    "```\n",
    "{'time': '2023-04-22 01:12:43',\n",
    " 'draw_count': 13,\n",
    " 'four_star_count': 10,\n",
    " 'star': 4,\n",
    " 'is_limited': False,\n",
    " 'is_character': False,\n",
    " 'result': '匣里龙吟'}\n",
    "```"
   ]
  },
  {
   "cell_type": "code",
   "execution_count": null,
   "metadata": {
    "ExecuteTime": {
     "end_time": "2023-04-22T01:12:43.536235Z",
     "start_time": "2023-04-22T01:12:43.533116Z"
    }
   },
   "outputs": [],
   "source": [
    "wish = Wish()\n",
    "\n",
    "wish.std_wish()"
   ]
  },
  {
   "cell_type": "markdown",
   "metadata": {},
   "source": [
    "# 使用例"
   ]
  },
  {
   "cell_type": "code",
   "execution_count": null,
   "metadata": {
    "ExecuteTime": {
     "end_time": "2023-04-22T01:25:31.377251Z",
     "start_time": "2023-04-22T01:25:31.373914Z"
    }
   },
   "outputs": [],
   "source": [
    "from genshinwish import Wish\n",
    "\n",
    "wish = Wish(up_candidate=\"纳西妲\", four_star_up=[\"久岐忍\", \"多莉\", \"莱依拉\"], chart_course=\"千夜浮梦\")\n",
    "wish.history = []\n",
    "collect = []\n",
    "count = 0\n",
    "\n",
    "# 使用例：模拟抽卡（直到第一次抽中限定五星）\n",
    "while True:\n",
    "    # 我的回合！抽卡！\n",
    "    state = wish.char_event_wish()\n",
    "    # print(state)\n",
    "\n",
    "    if state[\"star\"] == 5 and state[\"is_limited\"]:  # 抽中本期UP就计数\n",
    "        count += 1\n",
    "\n",
    "    if count == 6:  # 抽满命！！！\n",
    "        break\n",
    "    # if state[\"star\"] == 5:\n",
    "    #     break\n",
    "\n",
    "    # 提取分析抽出的五星\n",
    "for i in range(len(wish.history)):\n",
    "    if wish.history[i][\"star\"] == 5:\n",
    "        print(wish.history[i])"
   ]
  },
  {
   "cell_type": "markdown",
   "metadata": {},
   "source": [
    "输出示例：\n",
    "```\n",
    "{'time': '2023-04-22 01:25:31', 'five_star_grt': False, 'four_star_grt': False, 'draw_count': 79, 'four_star_count': 1, 'star': 5, 'is_limited': False, 'is_character': True, 'result': '莫娜'}\n",
    "{'time': '2023-04-22 01:25:31', 'five_star_grt': True, 'four_star_grt': True, 'draw_count': 78, 'four_star_count': 6, 'star': 5, 'is_limited': True, 'is_character': True, 'result': '纳西妲'}\n",
    "{'time': '2023-04-22 01:25:31', 'five_star_grt': False, 'four_star_grt': False, 'draw_count': 79, 'four_star_count': 8, 'star': 5, 'is_limited': True, 'is_character': True, 'result': '纳西妲'}\n",
    "{'time': '2023-04-22 01:25:31', 'five_star_grt': False, 'four_star_grt': False, 'draw_count': 77, 'four_star_count': 10, 'star': 5, 'is_limited': False, 'is_character': True, 'result': '刻晴'}\n",
    "{'time': '2023-04-22 01:25:31', 'five_star_grt': True, 'four_star_grt': True, 'draw_count': 75, 'four_star_count': 4, 'star': 5, 'is_limited': True, 'is_character': True, 'result': '纳西妲'}\n",
    "{'time': '2023-04-22 01:25:31', 'five_star_grt': False, 'four_star_grt': False, 'draw_count': 40, 'four_star_count': 6, 'star': 5, 'is_limited': True, 'is_character': True, 'result': '纳西妲'}\n",
    "{'time': '2023-04-22 01:25:31', 'five_star_grt': False, 'four_star_grt': False, 'draw_count': 18, 'four_star_count': 5, 'star': 5, 'is_limited': False, 'is_character': True, 'result': '提纳里'}\n",
    "{'time': '2023-04-22 01:25:31', 'five_star_grt': True, 'four_star_grt': True, 'draw_count': 67, 'four_star_count': 1, 'star': 5, 'is_limited': True, 'is_character': True, 'result': '纳西妲'}\n",
    "{'time': '2023-04-22 01:25:31', 'five_star_grt': False, 'four_star_grt': True, 'draw_count': 47, 'four_star_count': 1, 'star': 5, 'is_limited': False, 'is_character': True, 'result': '迪卢克'}\n",
    "{'time': '2023-04-22 01:25:31', 'five_star_grt': True, 'four_star_grt': False, 'draw_count': 83, 'four_star_count': 6, 'star': 5, 'is_limited': True, 'is_character': True, 'result': '纳西妲'}\n",
    "```"
   ]
  }
 ],
 "metadata": {
  "kernelspec": {
   "display_name": "Python 3 (ipykernel)",
   "language": "python",
   "name": "python3"
  },
  "language_info": {
   "codemirror_mode": {
    "name": "ipython",
    "version": 3
   },
   "file_extension": ".py",
   "mimetype": "text/x-python",
   "name": "python",
   "nbconvert_exporter": "python",
   "pygments_lexer": "ipython3",
   "version": "3.10.9"
  }
 },
 "nbformat": 4,
 "nbformat_minor": 1
}
